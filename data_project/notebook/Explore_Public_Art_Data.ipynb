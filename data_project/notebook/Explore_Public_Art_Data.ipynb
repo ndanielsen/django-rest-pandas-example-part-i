{
 "cells": [
  {
   "cell_type": "code",
   "execution_count": 1,
   "metadata": {
    "collapsed": true
   },
   "outputs": [],
   "source": [
    "import pandas as pd"
   ]
  },
  {
   "cell_type": "code",
   "execution_count": 38,
   "metadata": {
    "collapsed": false
   },
   "outputs": [],
   "source": [
    "df = pd.read_csv('../dataviz/data/dd7c7a92659b4f4a8971e9addacbf2db_51.csv')"
   ]
  },
  {
   "cell_type": "code",
   "execution_count": 41,
   "metadata": {
    "collapsed": false
   },
   "outputs": [],
   "source": [
    "df['COUNT'] = 1\n",
    "df_wards = df.groupby(['WARD']).COUNT.sum().reset_index()"
   ]
  },
  {
   "cell_type": "code",
   "execution_count": 42,
   "metadata": {
    "collapsed": false
   },
   "outputs": [],
   "source": [
    "df_wards['WARD'] = 'Ward' + ' ' + df_wards.WARD.apply(str)"
   ]
  },
  {
   "cell_type": "code",
   "execution_count": 46,
   "metadata": {
    "collapsed": false
   },
   "outputs": [
    {
     "data": {
      "text/plain": [
       "'<table border=\"1\" class=\"dataframe\">  <thead>    <tr style=\"text-align: right;\">      <th></th>      <th>WARD</th>      <th>COUNT</th>    </tr>  </thead>  <tbody>    <tr>      <th>0</th>      <td>Ward 1</td>      <td>41</td>    </tr>    <tr>      <th>1</th>      <td>Ward 2</td>      <td>44</td>    </tr>    <tr>      <th>2</th>      <td>Ward 3</td>      <td>10</td>    </tr>    <tr>      <th>3</th>      <td>Ward 4</td>      <td>22</td>    </tr>    <tr>      <th>4</th>      <td>Ward 5</td>      <td>23</td>    </tr>    <tr>      <th>5</th>      <td>Ward 6</td>      <td>71</td>    </tr>    <tr>      <th>6</th>      <td>Ward 7</td>      <td>20</td>    </tr>    <tr>      <th>7</th>      <td>Ward 8</td>      <td>41</td>    </tr>  </tbody></table>'"
      ]
     },
     "execution_count": 46,
     "metadata": {},
     "output_type": "execute_result"
    }
   ],
   "source": [
    "df_wards.to_html().replace('\\n', '')"
   ]
  },
  {
   "cell_type": "code",
   "execution_count": null,
   "metadata": {
    "collapsed": true
   },
   "outputs": [],
   "source": []
  }
 ],
 "metadata": {
  "kernelspec": {
   "display_name": "Python 3",
   "language": "python",
   "name": "python3"
  },
  "language_info": {
   "codemirror_mode": {
    "name": "ipython",
    "version": 3
   },
   "file_extension": ".py",
   "mimetype": "text/x-python",
   "name": "python",
   "nbconvert_exporter": "python",
   "pygments_lexer": "ipython3",
   "version": "3.5.2"
  }
 },
 "nbformat": 4,
 "nbformat_minor": 1
}
